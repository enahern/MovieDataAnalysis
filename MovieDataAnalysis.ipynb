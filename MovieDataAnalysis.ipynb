{
  "cells": [
    {
      "cell_type": "code",
      "execution_count": null,
      "metadata": {
        "id": "Vg4cTF1gIqSi"
      },
      "outputs": [],
      "source": [
        "import pandas as pd\n",
        "import numpy as np\n",
        "import math\n",
        "\n",
        "'''------------ part i --------------'''\n",
        "columns = ['user_id', 'item_id', 'rating', 'timestamp']\n",
        "df = pd.read_csv('/content/u.data', sep='\\t', names=columns)\n",
        "\n",
        "df = df.iloc[:, :-1]\n",
        "\n",
        "\n",
        "\n",
        "df = df.dropna()"
      ]
    },
    {
      "cell_type": "code",
      "execution_count": null,
      "metadata": {
        "id": "I6NLVxhnIt6L"
      },
      "outputs": [],
      "source": [
        "'''--------------- part ii --------------------'''\n",
        "umr_matrix = df.pivot_table(index = 'user_id', columns = 'item_id', values = 'rating')\n",
        "\n",
        "'''----------------- part iii -----------------'''\n",
        "matrix_copy = umr_matrix.copy()\n",
        "np.random.seed(351)\n",
        "users_h = np.random.choice(matrix_copy.index, size=int(0.2 * matrix_copy.shape[0]), replace=False)\n",
        "ratings_to_predict = []\n",
        "for user in users_h:\n",
        "    rate_i = matrix_copy.iloc[user-1].dropna().index.tolist()\n",
        "    ratings_h = np.random.choice(rate_i, size=int(0.2 * len(rate_i)), replace=False)\n",
        "    matrix_copy.iloc[user-1, ratings_h-1] = np.nan\n",
        "    for rate in ratings_h:\n",
        "        ratings_to_predict.append([user-1,rate-1])"
      ]
    },
    {
      "cell_type": "code",
      "execution_count": null,
      "metadata": {
        "id": "r_3LBn5eIwVh"
      },
      "outputs": [],
      "source": [
        "'''------------- part iv --------------'''\n",
        "# print(matrix_copy.head())\n",
        "# print(matrix_copy.iloc[0])\n",
        "def cos_sim(user_1, user_2):\n",
        "    '''cos_sim = (dot prod(user_1,user_2))/(mag(user_1)/*mag(user_2))'''\n",
        "    a,b = user_1, user_2\n",
        "    numerator = np.dot(a,b)\n",
        "    denom = math.sqrt(np.dot(a,a))*math.sqrt(np.dot(b,b))\n",
        "    if denom == 0:\n",
        "        return 0\n",
        "    else:\n",
        "        return numerator/denom\n",
        "\n",
        "def knn(user_i, k, matrix):\n",
        "    sim_list = []\n",
        "    rating = matrix.iloc[user_i].fillna(0).values\n",
        "    for i, other_u in matrix.iterrows():\n",
        "        if user_i != i-1:\n",
        "            other_u = other_u.fillna(0).values\n",
        "\n",
        "            cos = cos_sim(other_u, rating)\n",
        "            sim_list += [[cos,i-1]]\n",
        "    sim_list.sort(key=lambda x: x[0], reverse=True)\n",
        "    return sim_list[0:k]"
      ]
    },
    {
      "cell_type": "code",
      "execution_count": null,
      "metadata": {
        "colab": {
          "background_save": true
        },
        "id": "BEYjHM9hI1B-"
      },
      "outputs": [],
      "source": [
        "def predict(pred_val, matrix ):\n",
        "    num = 0\n",
        "    den = 0\n",
        "    for sim, i in knn(pred_val[0], 10, matrix):\n",
        "        o_rate = matrix.iloc[i,pred_val[1]]\n",
        "\n",
        "        if not np.isnan(o_rate):\n",
        "            num += o_rate *sim\n",
        "            den += sim\n",
        "    if den == 0:\n",
        "        return matrix.iloc[pred_val[0]].mean()\n",
        "    return num/den\n",
        "\n",
        "def pred_all(matrix):\n",
        "    fnl = []\n",
        "    for user,movie in ratings_to_predict:\n",
        "        pred = predict([user,movie],matrix)\n",
        "        fnl.append([[user,movie],pred])\n",
        "    return fnl\n",
        "x = pred_all(matrix_copy)\n",
        "# print(x)"
      ]
    },
    {
      "cell_type": "code",
      "execution_count": null,
      "metadata": {
        "colab": {
          "background_save": true
        },
        "id": "utj2n-xhI2ST",
        "outputId": "d7fd88e2-4b7d-4e9f-eac4-5781cd582def"
      },
      "outputs": [
        {
          "name": "stdout",
          "output_type": "stream",
          "text": [
            "---- rmse of user-based cf ----\n",
            "1.082784802278053\n"
          ]
        }
      ],
      "source": [
        "def rmse(prediction, test):\n",
        "    sum = 0\n",
        "    for i in range(len(prediction)):\n",
        "        sum += (prediction[i][1]-umr_matrix.iloc[test[i][0],test[i][1]])**2\n",
        "    return math.sqrt(sum/len(prediction))\n",
        "\n",
        "print('---- rmse of user-based cf ----')\n",
        "print(rmse(x, ratings_to_predict))\n"
      ]
    },
    {
      "cell_type": "markdown",
      "metadata": {
        "id": "k4o6YfO1I6FE"
      },
      "source": [
        "'''Overall, the performance of this model was pretty good! The RMSE, of 1.08\n",
        "is relatively low. This model has a lot of strengths with utilizing the k-nearest neighbors\n",
        "to determine the most similar users. However, I think that one weakness that stood out to me\n",
        "was the idea that the users that have the lowest similarity could also be useful to predict\n",
        "the ratings since their ratings would be very different. I think this could be stronger if\n",
        "the ratings based on the similar movies would help lower this too. In fact, item-based cf,\n",
        "should have a lower RMSE.'''"
      ]
    },
    {
      "cell_type": "code",
      "execution_count": null,
      "metadata": {
        "colab": {
          "background_save": true
        },
        "id": "wf-9OQPTI4uc",
        "outputId": "3a2026b0-3318-4368-e253-58881b1f2198"
      },
      "outputs": [
        {
          "name": "stdout",
          "output_type": "stream",
          "text": [
            "---- rmse of item-based cf ----\n",
            "0.9703210431446239\n"
          ]
        },
        {
          "data": {
            "application/vnd.google.colaboratory.intrinsic+json": {
              "type": "string"
            },
            "text/plain": [
              "'The Item-based callaborative filtering has a lower RMSE than\\nthe user-based cf. This shows us that similar movies are better \\nat predicting ratings instead of similar users'"
            ]
          },
          "execution_count": 8,
          "metadata": {},
          "output_type": "execute_result"
        }
      ],
      "source": [
        "umr_matrix = df.pivot_table(index = 'item_id', columns = 'user_id', values = 'rating')\n",
        "\n",
        "'''----------------- part iii -----------------'''\n",
        "matrix_copy = umr_matrix.copy()\n",
        "np.random.seed(351)\n",
        "movie_h = np.random.choice(matrix_copy.index, size=int(0.2 * matrix_copy.shape[0]), replace=False)\n",
        "ratings_to_predict = []\n",
        "for movie in movie_h:\n",
        "    rate_i = matrix_copy.iloc[movie-1].dropna().index.tolist()\n",
        "    ratings_h = np.random.choice(rate_i, size=int(0.2 * len(rate_i)), replace=False)\n",
        "    matrix_copy.iloc[movie-1, ratings_h-1] = np.nan\n",
        "    for rate in ratings_h:\n",
        "        ratings_to_predict.append([movie-1,rate-1])\n",
        "\n",
        "\n",
        "'''------------- part iv --------------'''\n",
        "# print(matrix_copy.head())\n",
        "# print(matrix_copy.iloc[0])\n",
        "def cos_sim(movie_1, movie_2):\n",
        "    '''cos_sim = (dot prod(user_1,user_2))/(mag(user_1)/*mag(user_2))'''\n",
        "    a,b = movie_1, movie_2\n",
        "    numerator = np.dot(a,b)\n",
        "    denom = math.sqrt(np.dot(a,a))*math.sqrt(np.dot(b,b))\n",
        "    if denom == 0:\n",
        "        return 0\n",
        "    else:\n",
        "        return numerator/denom\n",
        "\n",
        "def knn(movie_i, k, matrix):\n",
        "    sim_list = []\n",
        "    rating = matrix.iloc[movie_i].fillna(0).values\n",
        "    for i, other_u in matrix.iterrows():\n",
        "        if movie_i != i-1:\n",
        "            other_u = other_u.fillna(0).values\n",
        "\n",
        "            cos = cos_sim(other_u, rating)\n",
        "            sim_list += [[cos,i-1]]\n",
        "    sim_list.sort(key=lambda x: x[0], reverse=True)\n",
        "    return sim_list[0:k]\n",
        "\n",
        "\n",
        "def predict(pred_val, matrix ):\n",
        "    num = 0\n",
        "    den = 0\n",
        "    for sim, i in knn(pred_val[0], 10, matrix):\n",
        "        o_rate = matrix.iloc[i,pred_val[1]]\n",
        "\n",
        "        if not np.isnan(o_rate):\n",
        "            num += o_rate *sim\n",
        "            den += sim\n",
        "    if den == 0:\n",
        "        return matrix.iloc[pred_val[0]].mean()\n",
        "    return num/den\n",
        "\n",
        "def pred_all(matrix):\n",
        "    fnl = []\n",
        "    for movie,user in ratings_to_predict:\n",
        "        pred = predict([movie,user],matrix)\n",
        "        fnl.append([[movie,user],pred])\n",
        "    return fnl\n",
        "x = pred_all(matrix_copy)\n",
        "# print(x)\n",
        "\n",
        "'''----------------------- part v ---------------------------'''\n",
        "def rmse(prediction, test):\n",
        "    sum = 0\n",
        "    for i in range(len(prediction)):\n",
        "        sum += (prediction[i][1]-umr_matrix.iloc[test[i][0],test[i][1]])**2\n",
        "    return math.sqrt(sum/len(prediction))\n",
        "print('---- rmse of item-based cf ----')\n",
        "print(rmse(x, ratings_to_predict))\n",
        "\n",
        "'''The Item-based callaborative filtering has a lower RMSE than\n",
        "the user-based cf. This shows us that similar movies are better\n",
        "at predicting ratings instead of similar users'''"
      ]
    }
  ],
  "metadata": {
    "colab": {
      "provenance": []
    },
    "kernelspec": {
      "display_name": "Python 3",
      "name": "python3"
    },
    "language_info": {
      "name": "python"
    }
  },
  "nbformat": 4,
  "nbformat_minor": 0
}
